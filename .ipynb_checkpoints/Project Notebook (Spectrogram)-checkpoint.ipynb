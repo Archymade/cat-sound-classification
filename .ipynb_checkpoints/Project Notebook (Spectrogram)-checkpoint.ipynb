{
 "cells": [
  {
   "cell_type": "code",
   "execution_count": 1,
   "id": "7304b0bd",
   "metadata": {},
   "outputs": [],
   "source": [
    "import torch\n",
    "import numpy as np\n",
    "import os, gc\n",
    "\n",
    "import matplotlib.pyplot as plt\n",
    "\n",
    "import librosa\n",
    "import torchaudio\n",
    "import torchvision\n",
    "\n",
    "from torch import nn\n",
    "from torch import optim\n",
    "from torch.utils.data import Dataset, DataLoader\n",
    "\n",
    "import torchvision.transforms as T\n",
    "from torchinfo import summary"
   ]
  },
  {
   "cell_type": "code",
   "execution_count": 2,
   "id": "e811dc86",
   "metadata": {},
   "outputs": [],
   "source": [
    "DATA_DIR = 'data/cat-meow/dataset/dataset'"
   ]
  },
  {
   "cell_type": "code",
   "execution_count": 3,
   "id": "44fa7b55",
   "metadata": {},
   "outputs": [],
   "source": [
    "#### Class with Spectrogram\n",
    "\n",
    "class AudioDataset(Dataset):\n",
    "    \n",
    "    ''' Instance of Audio dataset object. '''\n",
    "    \n",
    "    def __init__(self, root, length = 18900, shift = 20, target_sr = 10000,\n",
    "                 partition = 'train', transforms = None):\n",
    "        \n",
    "        self.root = root\n",
    "        self.partition = partition\n",
    "        \n",
    "        self.length = length\n",
    "        self.shift = shift\n",
    "        self.target_sr = target_sr\n",
    "        \n",
    "        self.transforms = transforms\n",
    "        #self.transform_list = []\n",
    "        \n",
    "        if transforms is None:\n",
    "            self.noise_transform = T.Lambda(lambda x: x + torch.randint(low = 0, high = 10, size = tuple(x.shape))/10)\n",
    "            \n",
    "            #self.transform_list.append(('Noise transform', noise_transform))\n",
    "            #self.transform_list.append(('Custom transforms', self.custom_transforms()))\n",
    "            \n",
    "            self.transforms = T.Compose([self.custom_transforms()[-1],\n",
    "                                         self.noise_transform\n",
    "                                        ])\n",
    "            \n",
    "        self.files = os.listdir(self.root)\n",
    "        \n",
    "        self.label_int = {'F' : 0,\n",
    "                          'I' : 1,\n",
    "                          'B' : 2\n",
    "                         }\n",
    "        \n",
    "        self.int_label = {(v, k) for k, v in self.label_int.items()}\n",
    "        \n",
    "    def __len__(self):\n",
    "        return len(self.files)\n",
    "    \n",
    "    def __getitem__(self, index):\n",
    "        fname = self.files[index]\n",
    "        label = fname[0]\n",
    "        \n",
    "        file, sample_rate = torchaudio.load(os.path.join(self.root, fname))\n",
    "        file = torch.tensor(librosa.resample(file.numpy(), orig_sr = sample_rate,\n",
    "                                             res_type = 'polyphase', target_sr = self.target_sr))\n",
    "        chance = torch.rand(1)\n",
    "        \n",
    "        if chance >= 0.5 and self.partition == 'train':\n",
    "            file = self.transforms(file)\n",
    "        else:\n",
    "            file = self.custom_transforms()[-1](file)\n",
    "        \n",
    "        file = librosa.feature.melspectrogram(y = file.numpy(), sr = self.target_sr)\n",
    "        \n",
    "        return torch.tensor(file/file.max()).clamp(-1, 1), self.label_int[label]\n",
    "    \n",
    "    def custom_transforms(self):\n",
    "\n",
    "        ''' Create custom transformations for audio waves. '''\n",
    "        \n",
    "        #  #  #  #  #  #  #  #  #  #  #  #\n",
    "        #                                #\n",
    "        #      Create pad transformer    #\n",
    "        #                                #\n",
    "        #  #  #  #  #  #  #  #  #  #  #  #\n",
    "        def pad_transform(x):\n",
    "            \n",
    "            ''' Pad/truncate audio signal to desired length. '''\n",
    "            \n",
    "            n_rows, sample_length = x.shape\n",
    "            \n",
    "            ### If sample is too short\n",
    "            if sample_length < self.length:\n",
    "                front_pad = (self.length - sample_length) // 2\n",
    "                back_pad = self.length - sample_length - front_pad\n",
    "                \n",
    "                front_pad = torch.zeros(size = (x.shape[0], front_pad))\n",
    "                back_pad = torch.zeros(size = (x.shape[0], back_pad))\n",
    "                \n",
    "                ### Pad the tensor\n",
    "                x = torch.cat((front_pad, x, back_pad), dim = 1)\n",
    "            \n",
    "            elif sample_length > self.length:\n",
    "                ### Truncate tensor\n",
    "                x = x[:, :self.length]\n",
    "                \n",
    "            return x\n",
    "                \n",
    "        transform_1 = T.Lambda(lambda f: 0.5*f + 0.5*torch.roll(f, torch.randint(-self.shift, self.shift + 1, (1,)).item(),\n",
    "                                                                dims = -1))\n",
    "        transform_2 = T.Lambda(lambda f: pad_transform(f))\n",
    "        \n",
    "        transform = T.Compose([transform_2,\n",
    "                               transform_1\n",
    "                              ])\n",
    "        \n",
    "        return transform_1, transform_2, transform\n",
    "    "
   ]
  },
  {
   "cell_type": "code",
   "execution_count": 4,
   "id": "baac2503",
   "metadata": {},
   "outputs": [
    {
     "data": {
      "text/plain": [
       "tensor([2])"
      ]
     },
     "execution_count": 4,
     "metadata": {},
     "output_type": "execute_result"
    }
   ],
   "source": [
    "torch.randint(-2, 2 + 1, (1,))"
   ]
  },
  {
   "cell_type": "markdown",
   "id": "eda1e009",
   "metadata": {},
   "source": [
    "    ```def resample(self, x):\n",
    "        \n",
    "        ''' Resample audio sample from mono to stereo. '''\n",
    "        \n",
    "        x_clone = torch.clone(x)\n",
    "        x_clone = torch.roll(x, 2*self.shift. dims = 0)\n",
    "        \n",
    "        x = torch.cat((x, x_clone), dim = -1)\n",
    "        \n",
    "        return x\n",
    "    ```"
   ]
  },
  {
   "cell_type": "markdown",
   "id": "3f2b6b40",
   "metadata": {},
   "source": [
    "### Class with raw audio files\n",
    "\n",
    "class AudioDataset(Dataset):\n",
    "    \n",
    "    ''' Instance of Audio dataset object. '''\n",
    "    \n",
    "    def __init__(self, root, length = 18900, shift = 20, transforms = None):\n",
    "        self.root = root\n",
    "        self.length = length\n",
    "        self.shift = shift\n",
    "       #self.transforms = transforms\n",
    "        \n",
    "        if transforms is None:\n",
    "            transforms = T.Lambda(lambda x: x + torch.randint(low = 0, high = 10, size = tuple(x.shape))/10)\n",
    "            \n",
    "            self.transforms = T.Compose([self.custom_transforms(),\n",
    "                                         transforms\n",
    "                                        ])\n",
    "        else:\n",
    "            self.transforms = transforms\n",
    "            \n",
    "        self.files = os.listdir(self.root)\n",
    "        self.label_int = {'F' : 0,\n",
    "                          'I' : 1,\n",
    "                          'B' : 2\n",
    "                         }\n",
    "        \n",
    "        self.int_label = {(v, k) for k, v in self.label_int.items()}\n",
    "        \n",
    "    def __len__(self):\n",
    "        return len(self.files)\n",
    "    \n",
    "    def __getitem__(self, index):\n",
    "        fname = self.files[index]\n",
    "        label = fname[0]\n",
    "        \n",
    "        file, sample_rate = torchaudio.load(os.path.join(self.root, fname))\n",
    "        file = self.transforms(file)\n",
    "        \n",
    "        return file, self.label_int[label]\n",
    "    \n",
    "    def custom_transforms(self):\n",
    "\n",
    "        ''' Create custom transformations for audio waves. '''\n",
    "        \n",
    "        def pad_transform(x):\n",
    "            \n",
    "            ''' Pad/truncate audio signal to desired length. '''\n",
    "            \n",
    "            n_rows, sample_length = x.shape\n",
    "            \n",
    "            if sample_length < self.length:\n",
    "                front_pad = (self.length - sample_length) // 2\n",
    "                back_pad = self.length - sample_length - front_pad\n",
    "                \n",
    "                front_pad = torch.zeros(size = (x.shape[0], front_pad))\n",
    "                back_pad = torch.zeros(size = (x.shape[0], back_pad))\n",
    "                \n",
    "                x = torch.cat((front_pad, x, back_pad), dim = -1)\n",
    "            \n",
    "            elif self.length > sample_length:\n",
    "                x = x[:, :self.length]\n",
    "                \n",
    "            return x\n",
    "                \n",
    "        transform_1 = T.Lambda(lambda f: 0.5*f + 0.5*torch.roll(f, self.shift, dims = -1))\n",
    "        transform_2 = T.Lambda(lambda f: pad_transform(f))\n",
    "        \n",
    "        transform = T.Compose([transform_2,\n",
    "                               transform_1\n",
    "                              ])\n",
    "        \n",
    "        return transform\n",
    "    "
   ]
  },
  {
   "cell_type": "code",
   "execution_count": 5,
   "id": "9a2bed6a",
   "metadata": {},
   "outputs": [],
   "source": [
    "dataset = AudioDataset(root = DATA_DIR)\n",
    "\n",
    "train, test = torch.utils.data.random_split(dataset, [400, 40])\n",
    "test.partition = 'test'"
   ]
  },
  {
   "cell_type": "code",
   "execution_count": 6,
   "id": "dc6c0717",
   "metadata": {},
   "outputs": [
    {
     "data": {
      "text/plain": [
       "440"
      ]
     },
     "execution_count": 6,
     "metadata": {},
     "output_type": "execute_result"
    }
   ],
   "source": [
    "len(dataset)"
   ]
  },
  {
   "cell_type": "code",
   "execution_count": 7,
   "id": "728057fc",
   "metadata": {},
   "outputs": [],
   "source": [
    "d = test.dataset[70]"
   ]
  },
  {
   "cell_type": "code",
   "execution_count": 8,
   "id": "4fe70999",
   "metadata": {},
   "outputs": [
    {
     "data": {
      "text/plain": [
       "2"
      ]
     },
     "execution_count": 8,
     "metadata": {},
     "output_type": "execute_result"
    }
   ],
   "source": [
    "d[1]"
   ]
  },
  {
   "cell_type": "code",
   "execution_count": 9,
   "id": "c10b9e14",
   "metadata": {},
   "outputs": [
    {
     "data": {
      "text/plain": [
       "['__add__',\n",
       " '__annotations__',\n",
       " '__class__',\n",
       " '__class_getitem__',\n",
       " '__delattr__',\n",
       " '__dict__',\n",
       " '__dir__',\n",
       " '__doc__',\n",
       " '__eq__',\n",
       " '__format__',\n",
       " '__ge__',\n",
       " '__getattr__',\n",
       " '__getattribute__',\n",
       " '__getitem__',\n",
       " '__gt__',\n",
       " '__hash__',\n",
       " '__init__',\n",
       " '__init_subclass__',\n",
       " '__le__',\n",
       " '__len__',\n",
       " '__lt__',\n",
       " '__module__',\n",
       " '__ne__',\n",
       " '__new__',\n",
       " '__orig_bases__',\n",
       " '__parameters__',\n",
       " '__reduce__',\n",
       " '__reduce_ex__',\n",
       " '__repr__',\n",
       " '__setattr__',\n",
       " '__sizeof__',\n",
       " '__slots__',\n",
       " '__str__',\n",
       " '__subclasshook__',\n",
       " '__weakref__',\n",
       " '_is_protocol',\n",
       " 'custom_transforms',\n",
       " 'files',\n",
       " 'functions',\n",
       " 'int_label',\n",
       " 'label_int',\n",
       " 'length',\n",
       " 'noise_transform',\n",
       " 'partition',\n",
       " 'register_datapipe_as_function',\n",
       " 'register_function',\n",
       " 'root',\n",
       " 'shift',\n",
       " 'target_sr',\n",
       " 'transforms']"
      ]
     },
     "execution_count": 9,
     "metadata": {},
     "output_type": "execute_result"
    }
   ],
   "source": [
    "dir(dataset)"
   ]
  },
  {
   "cell_type": "code",
   "execution_count": 10,
   "id": "80ef0365",
   "metadata": {},
   "outputs": [
    {
     "data": {
      "text/plain": [
       "torch.Size([1, 128, 37])"
      ]
     },
     "execution_count": 10,
     "metadata": {},
     "output_type": "execute_result"
    }
   ],
   "source": [
    "d[0].shape"
   ]
  },
  {
   "cell_type": "code",
   "execution_count": 11,
   "id": "42bc319e",
   "metadata": {},
   "outputs": [
    {
     "data": {
      "text/plain": [
       "tensor([], size=(1, 0, 37))"
      ]
     },
     "execution_count": 11,
     "metadata": {},
     "output_type": "execute_result"
    }
   ],
   "source": [
    "d[0][:, 300:330]"
   ]
  },
  {
   "cell_type": "code",
   "execution_count": 12,
   "id": "4fadb9ec",
   "metadata": {},
   "outputs": [
    {
     "data": {
      "text/plain": [
       "tensor(1.)"
      ]
     },
     "execution_count": 12,
     "metadata": {},
     "output_type": "execute_result"
    }
   ],
   "source": [
    "d[0].max()"
   ]
  },
  {
   "cell_type": "code",
   "execution_count": 13,
   "id": "74d33a99",
   "metadata": {},
   "outputs": [
    {
     "data": {
      "text/plain": [
       "['A4_to_tuning',\n",
       " 'A_weighting',\n",
       " 'B_weighting',\n",
       " 'C_weighting',\n",
       " 'D_weighting',\n",
       " 'LibrosaError',\n",
       " 'ParameterError',\n",
       " 'Z_weighting',\n",
       " '__builtins__',\n",
       " '__cached__',\n",
       " '__doc__',\n",
       " '__file__',\n",
       " '__loader__',\n",
       " '__name__',\n",
       " '__package__',\n",
       " '__path__',\n",
       " '__spec__',\n",
       " '__version__',\n",
       " '_cache',\n",
       " 'amplitude_to_db',\n",
       " 'audio',\n",
       " 'autocorrelate',\n",
       " 'beat',\n",
       " 'blocks_to_frames',\n",
       " 'blocks_to_samples',\n",
       " 'blocks_to_time',\n",
       " 'cache',\n",
       " 'chirp',\n",
       " 'clicks',\n",
       " 'constantq',\n",
       " 'convert',\n",
       " 'core',\n",
       " 'cqt',\n",
       " 'cqt_frequencies',\n",
       " 'db_to_amplitude',\n",
       " 'db_to_power',\n",
       " 'decompose',\n",
       " 'effects',\n",
       " 'estimate_tuning',\n",
       " 'ex',\n",
       " 'example',\n",
       " 'feature',\n",
       " 'fft',\n",
       " 'fft_frequencies',\n",
       " 'filters',\n",
       " 'fmt',\n",
       " 'fourier_tempo_frequencies',\n",
       " 'frames_to_samples',\n",
       " 'frames_to_time',\n",
       " 'frequency_weighting',\n",
       " 'get_duration',\n",
       " 'get_fftlib',\n",
       " 'get_samplerate',\n",
       " 'griffinlim',\n",
       " 'griffinlim_cqt',\n",
       " 'harmonic',\n",
       " 'hybrid_cqt',\n",
       " 'hz_to_mel',\n",
       " 'hz_to_midi',\n",
       " 'hz_to_note',\n",
       " 'hz_to_octs',\n",
       " 'hz_to_svara_c',\n",
       " 'hz_to_svara_h',\n",
       " 'icqt',\n",
       " 'iirt',\n",
       " 'interp_harmonics',\n",
       " 'istft',\n",
       " 'key_to_degrees',\n",
       " 'key_to_notes',\n",
       " 'list_mela',\n",
       " 'list_thaat',\n",
       " 'load',\n",
       " 'lpc',\n",
       " 'magphase',\n",
       " 'mel_frequencies',\n",
       " 'mel_to_hz',\n",
       " 'mela_to_degrees',\n",
       " 'mela_to_svara',\n",
       " 'midi_to_hz',\n",
       " 'midi_to_note',\n",
       " 'midi_to_svara_c',\n",
       " 'midi_to_svara_h',\n",
       " 'mu_compress',\n",
       " 'mu_expand',\n",
       " 'multi_frequency_weighting',\n",
       " 'notation',\n",
       " 'note_to_hz',\n",
       " 'note_to_midi',\n",
       " 'note_to_svara_c',\n",
       " 'note_to_svara_h',\n",
       " 'octs_to_hz',\n",
       " 'onset',\n",
       " 'pcen',\n",
       " 'perceptual_weighting',\n",
       " 'phase_vocoder',\n",
       " 'piptrack',\n",
       " 'pitch',\n",
       " 'pitch_tuning',\n",
       " 'power_to_db',\n",
       " 'pseudo_cqt',\n",
       " 'pyin',\n",
       " 'reassigned_spectrogram',\n",
       " 'resample',\n",
       " 'salience',\n",
       " 'samples_like',\n",
       " 'samples_to_frames',\n",
       " 'samples_to_time',\n",
       " 'segment',\n",
       " 'sequence',\n",
       " 'set_fftlib',\n",
       " 'show_versions',\n",
       " 'spectrum',\n",
       " 'stft',\n",
       " 'stream',\n",
       " 'tempo_frequencies',\n",
       " 'thaat_to_degrees',\n",
       " 'time_to_frames',\n",
       " 'time_to_samples',\n",
       " 'times_like',\n",
       " 'to_mono',\n",
       " 'tone',\n",
       " 'tuning_to_A4',\n",
       " 'util',\n",
       " 'version',\n",
       " 'vqt',\n",
       " 'yin',\n",
       " 'zero_crossings']"
      ]
     },
     "execution_count": 13,
     "metadata": {},
     "output_type": "execute_result"
    }
   ],
   "source": [
    "dir(librosa)"
   ]
  },
  {
   "cell_type": "code",
   "execution_count": 14,
   "id": "9bb5f03d",
   "metadata": {
    "scrolled": true
   },
   "outputs": [
    {
     "data": {
      "image/png": "[encoded data removed]",
      "text/plain": [
       "<Figure size 720x720 with 1 Axes>"
      ]
     },
     "metadata": {
      "needs_background": "light"
     },
     "output_type": "display_data"
    }
   ],
   "source": [
    "plt.figure(figsize = (10, 10))\n",
    "plt.imshow(librosa.power_to_db(d[0].permute(1, 2, 0).numpy()/d[0].max(), ref = np.max))\n",
    "plt.show()"
   ]
  },
  {
   "cell_type": "code",
   "execution_count": 15,
   "id": "56700cb7",
   "metadata": {},
   "outputs": [
    {
     "data": {
      "image/png": "[encoded data removed]",
      "text/plain": [
       "<Figure size 720x720 with 1 Axes>"
      ]
     },
     "metadata": {
      "needs_background": "light"
     },
     "output_type": "display_data"
    }
   ],
   "source": [
    "plt.figure(figsize = (10, 10))\n",
    "plt.imshow(d[0].permute(1, 2, 0).numpy()/d[0].max())\n",
    "plt.show()"
   ]
  },
  {
   "cell_type": "code",
   "execution_count": 16,
   "id": "63717ac3",
   "metadata": {},
   "outputs": [
    {
     "name": "stdout",
     "output_type": "stream",
     "text": [
      "35.0\n",
      "33.0\n",
      "31.0\n"
     ]
    }
   ],
   "source": [
    "def conv_output(n = 64, p = 1, k = 3, s = 1):\n",
    "    return (n - k + 2*p + s)/s\n",
    "\n",
    "r = 37\n",
    "for i in range(3):\n",
    "    r = conv_output(n = r, p = 1, k = 5, s = 1)\n",
    "    print(r)"
   ]
  },
  {
   "cell_type": "code",
   "execution_count": 17,
   "id": "42432377",
   "metadata": {},
   "outputs": [],
   "source": [
    "def conv_block(in_c, out_c, kernel_size = 3, pool_size = 2, stride = 1, padding = 1):\n",
    "    model = nn.Sequential(nn.Conv2d(in_c, out_c, kernel_size = kernel_size, stride = stride, padding = padding),\n",
    "                          nn.BatchNorm2d(out_c, momentum = 0.8),\n",
    "                          nn.LeakyReLU(),\n",
    "                          nn.MaxPool2d(pool_size),\n",
    "                          nn.Dropout2d(0.2)\n",
    "                         )\n",
    "    \n",
    "    return model"
   ]
  },
  {
   "cell_type": "code",
   "execution_count": 18,
   "id": "c9b2221c",
   "metadata": {},
   "outputs": [],
   "source": [
    "class AudioModel(nn.Module):\n",
    "    \n",
    "    ''' Audio model class. '''\n",
    "    \n",
    "    def __init__(self, in_c, channels, input_size, pool_size = 2, kernel_size = 5,):\n",
    "        super(AudioModel, self).__init__()\n",
    "        self.in_channels = in_c\n",
    "        self.channels = channels\n",
    "        \n",
    "        self.input_size = input_size\n",
    "        self.kernel_size = kernel_size\n",
    "        self.pool_size = pool_size\n",
    "        \n",
    "        h, w = self.input_size\n",
    "        \n",
    "        self.layers = []\n",
    "        \n",
    "        for c in self.channels:\n",
    "            self.layers.append(conv_block(in_c, c, kernel_size = self.kernel_size))\n",
    "            \n",
    "            h = conv_output(n = h, p = 1, k = self.kernel_size, s = 1)/self.pool_size\n",
    "            w = conv_output(n = w, p = 1, k = self.kernel_size, s = 1)/self.pool_size\n",
    "            \n",
    "            in_c = c\n",
    "            #print(f'Result size: {c} by {h} by {w}')\n",
    "        \n",
    "        self.model = nn.Sequential(*self.layers)\n",
    "        #self.fc = nn.Sequential(nn.Linear(int(c*h*w), 3),\n",
    "         #                       nn.BatchNorm1d(1024),\n",
    "          #                      nn.ReLU(),\n",
    "           #                     nn.Dropout(0.5),\n",
    "            #                    nn.Linear(1024, 3)\n",
    "             #                  )\n",
    "        self.fc = nn.Linear(c*int(h)*int(w), 3)\n",
    "        \n",
    "    def forward(self, x):\n",
    "        x = self.model(x)\n",
    "        x = x.view(-1, self.fc.in_features)\n",
    "        \n",
    "        return torch.log_softmax(self.fc(x), dim = -1)\n",
    "        "
   ]
  },
  {
   "cell_type": "code",
   "execution_count": 19,
   "id": "b39e8f03",
   "metadata": {},
   "outputs": [],
   "source": [
    "#[3, 8, 16, 32]\n",
    "model = AudioModel(in_c = 1, channels = [32, 64, 128, 256], input_size = (128, 37), kernel_size = 3, pool_size = 2)"
   ]
  },
  {
   "cell_type": "code",
   "execution_count": 20,
   "id": "4dc758d8",
   "metadata": {},
   "outputs": [
    {
     "name": "stdout",
     "output_type": "stream",
     "text": [
      "AudioModel(\n",
      "  (model): Sequential(\n",
      "    (0): Sequential(\n",
      "      (0): Conv2d(1, 32, kernel_size=(3, 3), stride=(1, 1), padding=(1, 1))\n",
      "      (1): BatchNorm2d(32, eps=1e-05, momentum=0.8, affine=True, track_running_stats=True)\n",
      "      (2): LeakyReLU(negative_slope=0.01)\n",
      "      (3): MaxPool2d(kernel_size=2, stride=2, padding=0, dilation=1, ceil_mode=False)\n",
      "      (4): Dropout2d(p=0.2, inplace=False)\n",
      "    )\n",
      "    (1): Sequential(\n",
      "      (0): Conv2d(32, 64, kernel_size=(3, 3), stride=(1, 1), padding=(1, 1))\n",
      "      (1): BatchNorm2d(64, eps=1e-05, momentum=0.8, affine=True, track_running_stats=True)\n",
      "      (2): LeakyReLU(negative_slope=0.01)\n",
      "      (3): MaxPool2d(kernel_size=2, stride=2, padding=0, dilation=1, ceil_mode=False)\n",
      "      (4): Dropout2d(p=0.2, inplace=False)\n",
      "    )\n",
      "    (2): Sequential(\n",
      "      (0): Conv2d(64, 128, kernel_size=(3, 3), stride=(1, 1), padding=(1, 1))\n",
      "      (1): BatchNorm2d(128, eps=1e-05, momentum=0.8, affine=True, track_running_stats=True)\n",
      "      (2): LeakyReLU(negative_slope=0.01)\n",
      "      (3): MaxPool2d(kernel_size=2, stride=2, padding=0, dilation=1, ceil_mode=False)\n",
      "      (4): Dropout2d(p=0.2, inplace=False)\n",
      "    )\n",
      "    (3): Sequential(\n",
      "      (0): Conv2d(128, 256, kernel_size=(3, 3), stride=(1, 1), padding=(1, 1))\n",
      "      (1): BatchNorm2d(256, eps=1e-05, momentum=0.8, affine=True, track_running_stats=True)\n",
      "      (2): LeakyReLU(negative_slope=0.01)\n",
      "      (3): MaxPool2d(kernel_size=2, stride=2, padding=0, dilation=1, ceil_mode=False)\n",
      "      (4): Dropout2d(p=0.2, inplace=False)\n",
      "    )\n",
      "  )\n",
      "  (fc): Linear(in_features=4096, out_features=3, bias=True)\n",
      ")\n"
     ]
    }
   ],
   "source": [
    "print(model)"
   ]
  },
  {
   "cell_type": "code",
   "execution_count": 21,
   "id": "cc71d573",
   "metadata": {},
   "outputs": [
    {
     "data": {
      "text/plain": [
       "==========================================================================================\n",
       "Layer (type:depth-idx)                   Output Shape              Param #\n",
       "==========================================================================================\n",
       "AudioModel                               --                        --\n",
       "├─Sequential: 1-1                        [1, 256, 8, 2]            --\n",
       "│    └─Sequential: 2-1                   [1, 32, 64, 18]           --\n",
       "│    │    └─Conv2d: 3-1                  [1, 32, 128, 37]          320\n",
       "│    │    └─BatchNorm2d: 3-2             [1, 32, 128, 37]          64\n",
       "│    │    └─LeakyReLU: 3-3               [1, 32, 128, 37]          --\n",
       "│    │    └─MaxPool2d: 3-4               [1, 32, 64, 18]           --\n",
       "│    │    └─Dropout2d: 3-5               [1, 32, 64, 18]           --\n",
       "│    └─Sequential: 2-2                   [1, 64, 32, 9]            --\n",
       "│    │    └─Conv2d: 3-6                  [1, 64, 64, 18]           18,496\n",
       "│    │    └─BatchNorm2d: 3-7             [1, 64, 64, 18]           128\n",
       "│    │    └─LeakyReLU: 3-8               [1, 64, 64, 18]           --\n",
       "│    │    └─MaxPool2d: 3-9               [1, 64, 32, 9]            --\n",
       "│    │    └─Dropout2d: 3-10              [1, 64, 32, 9]            --\n",
       "│    └─Sequential: 2-3                   [1, 128, 16, 4]           --\n",
       "│    │    └─Conv2d: 3-11                 [1, 128, 32, 9]           73,856\n",
       "│    │    └─BatchNorm2d: 3-12            [1, 128, 32, 9]           256\n",
       "│    │    └─LeakyReLU: 3-13              [1, 128, 32, 9]           --\n",
       "│    │    └─MaxPool2d: 3-14              [1, 128, 16, 4]           --\n",
       "│    │    └─Dropout2d: 3-15              [1, 128, 16, 4]           --\n",
       "│    └─Sequential: 2-4                   [1, 256, 8, 2]            --\n",
       "│    │    └─Conv2d: 3-16                 [1, 256, 16, 4]           295,168\n",
       "│    │    └─BatchNorm2d: 3-17            [1, 256, 16, 4]           512\n",
       "│    │    └─LeakyReLU: 3-18              [1, 256, 16, 4]           --\n",
       "│    │    └─MaxPool2d: 3-19              [1, 256, 8, 2]            --\n",
       "│    │    └─Dropout2d: 3-20              [1, 256, 8, 2]            --\n",
       "├─Linear: 1-2                            [1, 3]                    12,291\n",
       "==========================================================================================\n",
       "Total params: 401,091\n",
       "Trainable params: 401,091\n",
       "Non-trainable params: 0\n",
       "Total mult-adds (M): 63.00\n",
       "==========================================================================================\n",
       "Input size (MB): 0.02\n",
       "Forward/backward pass size (MB): 4.46\n",
       "Params size (MB): 1.60\n",
       "Estimated Total Size (MB): 6.08\n",
       "=========================================================================================="
      ]
     },
     "execution_count": 21,
     "metadata": {},
     "output_type": "execute_result"
    }
   ],
   "source": [
    "summary(model, [1, 1, 128, 37])"
   ]
  },
  {
   "cell_type": "code",
   "execution_count": 22,
   "id": "6eb3ef4c",
   "metadata": {},
   "outputs": [],
   "source": [
    "### Dataloaders\n",
    "train_dl = DataLoader(train, batch_size = 32, shuffle = True)\n",
    "test_dl = DataLoader(test, batch_size = 16)"
   ]
  },
  {
   "cell_type": "code",
   "execution_count": 23,
   "id": "bb8a8a1b",
   "metadata": {
    "scrolled": true
   },
   "outputs": [
    {
     "name": "stdout",
     "output_type": "stream",
     "text": [
      "Epoch 10:\n",
      "  Train accuracy: 49.0385 %\n",
      "  Test accuracy: 47.9167 %\n",
      "Epoch 20:\n",
      "  Train accuracy: 51.2019 %\n",
      "  Test accuracy: 56.2500 %\n",
      "Epoch 30:\n",
      "  Train accuracy: 56.9712 %\n",
      "  Test accuracy: 50.0000 %\n",
      "Epoch 40:\n",
      "  Train accuracy: 53.1250 %\n",
      "  Test accuracy: 50.0000 %\n",
      "Epoch 50:\n",
      "  Train accuracy: 56.9712 %\n",
      "  Test accuracy: 56.2500 %\n",
      "Epoch 60:\n",
      "  Train accuracy: 55.5288 %\n",
      "  Test accuracy: 50.0000 %\n",
      "Epoch 70:\n",
      "  Train accuracy: 59.1346 %\n",
      "  Test accuracy: 43.7500 %\n",
      "Epoch 80:\n",
      "  Train accuracy: 55.5288 %\n",
      "  Test accuracy: 52.0833 %\n",
      "Epoch 90:\n",
      "  Train accuracy: 56.0096 %\n",
      "  Test accuracy: 52.0833 %\n",
      "Epoch 100:\n",
      "  Train accuracy: 57.9327 %\n",
      "  Test accuracy: 47.9167 %\n",
      "Epoch 110:\n",
      "  Train accuracy: 56.7308 %\n",
      "  Test accuracy: 56.2500 %\n",
      "Epoch 120:\n",
      "  Train accuracy: 58.1731 %\n",
      "  Test accuracy: 64.5833 %\n",
      "Epoch 130:\n",
      "  Train accuracy: 57.9327 %\n",
      "  Test accuracy: 52.0833 %\n",
      "Epoch 140:\n",
      "  Train accuracy: 59.6154 %\n",
      "  Test accuracy: 47.9167 %\n",
      "Epoch 150:\n",
      "  Train accuracy: 60.5769 %\n",
      "  Test accuracy: 50.0000 %\n",
      "Epoch 160:\n",
      "  Train accuracy: 60.5769 %\n",
      "  Test accuracy: 50.0000 %\n",
      "Epoch 170:\n",
      "  Train accuracy: 58.6538 %\n",
      "  Test accuracy: 54.1667 %\n",
      "Epoch 180:\n",
      "  Train accuracy: 60.8173 %\n",
      "  Test accuracy: 54.1667 %\n",
      "Epoch 190:\n",
      "  Train accuracy: 59.1346 %\n",
      "  Test accuracy: 54.1667 %\n",
      "Epoch 200:\n",
      "  Train accuracy: 57.2115 %\n",
      "  Test accuracy: 52.0833 %\n",
      "Epoch 210:\n",
      "  Train accuracy: 57.2115 %\n",
      "  Test accuracy: 45.8333 %\n",
      "Epoch 220:\n",
      "  Train accuracy: 61.7788 %\n",
      "  Test accuracy: 52.0833 %\n",
      "Epoch 230:\n",
      "  Train accuracy: 59.3750 %\n",
      "  Test accuracy: 50.0000 %\n",
      "Epoch 240:\n",
      "  Train accuracy: 62.2596 %\n",
      "  Test accuracy: 58.3333 %\n",
      "Epoch 250:\n",
      "  Train accuracy: 58.6538 %\n",
      "  Test accuracy: 54.1667 %\n",
      "Epoch 260:\n",
      "  Train accuracy: 58.1731 %\n",
      "  Test accuracy: 56.2500 %\n",
      "Epoch 270:\n",
      "  Train accuracy: 59.6154 %\n",
      "  Test accuracy: 60.4167 %\n",
      "Epoch 280:\n",
      "  Train accuracy: 59.1346 %\n",
      "  Test accuracy: 54.1667 %\n",
      "Epoch 290:\n",
      "  Train accuracy: 57.9327 %\n",
      "  Test accuracy: 56.2500 %\n",
      "Epoch 300:\n",
      "  Train accuracy: 60.3365 %\n",
      "  Test accuracy: 50.0000 %\n",
      "Epoch 310:\n",
      "  Train accuracy: 60.0962 %\n",
      "  Test accuracy: 50.0000 %\n",
      "Epoch 320:\n",
      "  Train accuracy: 61.5385 %\n",
      "  Test accuracy: 45.8333 %\n",
      "Epoch 330:\n",
      "  Train accuracy: 56.0096 %\n",
      "  Test accuracy: 56.2500 %\n",
      "Epoch 340:\n",
      "  Train accuracy: 57.2115 %\n",
      "  Test accuracy: 47.9167 %\n",
      "Epoch 350:\n",
      "  Train accuracy: 59.8558 %\n",
      "  Test accuracy: 52.0833 %\n",
      "Epoch 360:\n",
      "  Train accuracy: 57.4519 %\n",
      "  Test accuracy: 60.4167 %\n",
      "Epoch 370:\n",
      "  Train accuracy: 60.8173 %\n",
      "  Test accuracy: 62.5000 %\n",
      "Epoch 380:\n",
      "  Train accuracy: 60.5769 %\n",
      "  Test accuracy: 50.0000 %\n",
      "Epoch 390:\n",
      "  Train accuracy: 59.1346 %\n",
      "  Test accuracy: 52.0833 %\n",
      "Epoch 400:\n",
      "  Train accuracy: 56.2500 %\n",
      "  Test accuracy: 60.4167 %\n",
      "Epoch 410:\n",
      "  Train accuracy: 58.4135 %\n",
      "  Test accuracy: 58.3333 %\n",
      "Epoch 420:\n",
      "  Train accuracy: 61.2981 %\n",
      "  Test accuracy: 56.2500 %\n",
      "Epoch 430:\n",
      "  Train accuracy: 58.8942 %\n",
      "  Test accuracy: 56.2500 %\n",
      "Epoch 440:\n",
      "  Train accuracy: 58.8942 %\n",
      "  Test accuracy: 43.7500 %\n",
      "Epoch 450:\n",
      "  Train accuracy: 58.1731 %\n",
      "  Test accuracy: 47.9167 %\n",
      "Epoch 460:\n",
      "  Train accuracy: 58.4135 %\n",
      "  Test accuracy: 50.0000 %\n",
      "Epoch 470:\n",
      "  Train accuracy: 59.3750 %\n",
      "  Test accuracy: 60.4167 %\n",
      "Epoch 480:\n",
      "  Train accuracy: 59.3750 %\n",
      "  Test accuracy: 50.0000 %\n",
      "Epoch 490:\n",
      "  Train accuracy: 60.3365 %\n",
      "  Test accuracy: 52.0833 %\n",
      "Epoch 500:\n",
      "  Train accuracy: 56.2500 %\n",
      "  Test accuracy: 56.2500 %\n"
     ]
    }
   ],
   "source": [
    "lr = 5e-5\n",
    "epochs = 500\n",
    "criterion = nn.NLLLoss()\n",
    "#optimizer = optim.Adam(model.parameters(), lr = 1e-4)\n",
    "optimizer = optim.Adam(params = [{'params' : model.model.parameters(), 'lr' : lr/2},\n",
    "                                 {'params' : model.fc.parameters(), 'lr' : lr/4}\n",
    "                                ], amsgrad = True)\n",
    "\n",
    "lr_optimizer = optim.lr_scheduler.ExponentialLR(optimizer = optimizer, gamma = 0.99)\n",
    "\n",
    "for epoch in range(epochs):\n",
    "    ### Train loop\n",
    "    train_acc = []\n",
    "    model.train()\n",
    "    for X, y in train_dl:\n",
    "        model.zero_grad()\n",
    "        \n",
    "        outputs = model(X)\n",
    "        loss = criterion(outputs, y) #+ 0.1*torch.mean(torch.tensor([torch.norm(p, 2) for p in model.parameters()]))\n",
    "        \n",
    "        loss.backward()\n",
    "        optimizer.step()\n",
    "        \n",
    "        correct = torch.sum(outputs.max(dim = -1)[1] == y)\n",
    "        accuracy = correct/len(y)\n",
    "        #print(f'Accuracy: {100*accuracy}%')\n",
    "        train_acc.append(accuracy)\n",
    "        \n",
    "    lr_optimizer.step()\n",
    "    \n",
    "    ### Test loop\n",
    "    test_accuracies = []\n",
    "    model.eval()\n",
    "    for X_, y_ in test_dl:\n",
    "        with torch.inference_mode():\n",
    "            preds = model(X_)\n",
    "            acc = torch.sum(preds.max(dim = -1)[1] == y_)/len(y_)\n",
    "            test_accuracies.append(acc)\n",
    "    \n",
    "    if (epoch + 1) % 10 == 0:\n",
    "        print(f'Epoch {epoch + 1:02d}:\\n  Train accuracy: {100 * np.mean(train_acc).item():.4f} %')\n",
    "        print(f'  Test accuracy: {100 * np.mean(test_accuracies).item():.4f} %')\n",
    "        "
   ]
  },
  {
   "cell_type": "code",
   "execution_count": null,
   "id": "0d5d690a",
   "metadata": {},
   "outputs": [],
   "source": []
  },
  {
   "cell_type": "code",
   "execution_count": null,
   "id": "7a4277fc",
   "metadata": {},
   "outputs": [],
   "source": []
  }
 ],
 "metadata": {
  "kernelspec": {
   "display_name": "Python 3 (ipykernel)",
   "language": "python",
   "name": "python3"
  },
  "language_info": {
   "codemirror_mode": {
    "name": "ipython",
    "version": 3
   },
   "file_extension": ".py",
   "mimetype": "text/x-python",
   "name": "python",
   "nbconvert_exporter": "python",
   "pygments_lexer": "ipython3",
   "version": "3.9.12"
  }
 },
 "nbformat": 4,
 "nbformat_minor": 5
}
