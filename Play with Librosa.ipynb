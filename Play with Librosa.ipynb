{
 "cells": [
  {
   "cell_type": "code",
   "execution_count": 1,
   "id": "16fd8a7e",
   "metadata": {},
   "outputs": [],
   "source": [
    "import librosa\n",
    "import numpy as np\n",
    "import torch"
   ]
  },
  {
   "cell_type": "code",
   "execution_count": 2,
   "id": "85c4c5bb",
   "metadata": {},
   "outputs": [],
   "source": [
    "DIR = 'cat-meow\\dataset\\dataset\\B_BRI01_MC_FI_SIM01_302.wav'"
   ]
  },
  {
   "cell_type": "code",
   "execution_count": 3,
   "id": "de5422e6",
   "metadata": {},
   "outputs": [
    {
     "data": {
      "text/plain": [
       "['A4_to_tuning',\n",
       " 'A_weighting',\n",
       " 'B_weighting',\n",
       " 'C_weighting',\n",
       " 'D_weighting',\n",
       " 'LibrosaError',\n",
       " 'ParameterError',\n",
       " 'Z_weighting',\n",
       " '__builtins__',\n",
       " '__cached__',\n",
       " '__doc__',\n",
       " '__file__',\n",
       " '__loader__',\n",
       " '__name__',\n",
       " '__package__',\n",
       " '__path__',\n",
       " '__spec__',\n",
       " '__version__',\n",
       " '_cache',\n",
       " 'amplitude_to_db',\n",
       " 'audio',\n",
       " 'autocorrelate',\n",
       " 'beat',\n",
       " 'blocks_to_frames',\n",
       " 'blocks_to_samples',\n",
       " 'blocks_to_time',\n",
       " 'cache',\n",
       " 'chirp',\n",
       " 'clicks',\n",
       " 'constantq',\n",
       " 'convert',\n",
       " 'core',\n",
       " 'cqt',\n",
       " 'cqt_frequencies',\n",
       " 'db_to_amplitude',\n",
       " 'db_to_power',\n",
       " 'decompose',\n",
       " 'effects',\n",
       " 'estimate_tuning',\n",
       " 'ex',\n",
       " 'example',\n",
       " 'feature',\n",
       " 'fft',\n",
       " 'fft_frequencies',\n",
       " 'filters',\n",
       " 'fmt',\n",
       " 'fourier_tempo_frequencies',\n",
       " 'frames_to_samples',\n",
       " 'frames_to_time',\n",
       " 'frequency_weighting',\n",
       " 'get_duration',\n",
       " 'get_fftlib',\n",
       " 'get_samplerate',\n",
       " 'griffinlim',\n",
       " 'griffinlim_cqt',\n",
       " 'harmonic',\n",
       " 'hybrid_cqt',\n",
       " 'hz_to_mel',\n",
       " 'hz_to_midi',\n",
       " 'hz_to_note',\n",
       " 'hz_to_octs',\n",
       " 'hz_to_svara_c',\n",
       " 'hz_to_svara_h',\n",
       " 'icqt',\n",
       " 'iirt',\n",
       " 'interp_harmonics',\n",
       " 'istft',\n",
       " 'key_to_degrees',\n",
       " 'key_to_notes',\n",
       " 'list_mela',\n",
       " 'list_thaat',\n",
       " 'load',\n",
       " 'lpc',\n",
       " 'magphase',\n",
       " 'mel_frequencies',\n",
       " 'mel_to_hz',\n",
       " 'mela_to_degrees',\n",
       " 'mela_to_svara',\n",
       " 'midi_to_hz',\n",
       " 'midi_to_note',\n",
       " 'midi_to_svara_c',\n",
       " 'midi_to_svara_h',\n",
       " 'mu_compress',\n",
       " 'mu_expand',\n",
       " 'multi_frequency_weighting',\n",
       " 'notation',\n",
       " 'note_to_hz',\n",
       " 'note_to_midi',\n",
       " 'note_to_svara_c',\n",
       " 'note_to_svara_h',\n",
       " 'octs_to_hz',\n",
       " 'onset',\n",
       " 'pcen',\n",
       " 'perceptual_weighting',\n",
       " 'phase_vocoder',\n",
       " 'piptrack',\n",
       " 'pitch',\n",
       " 'pitch_tuning',\n",
       " 'power_to_db',\n",
       " 'pseudo_cqt',\n",
       " 'pyin',\n",
       " 'reassigned_spectrogram',\n",
       " 'resample',\n",
       " 'salience',\n",
       " 'samples_like',\n",
       " 'samples_to_frames',\n",
       " 'samples_to_time',\n",
       " 'segment',\n",
       " 'sequence',\n",
       " 'set_fftlib',\n",
       " 'show_versions',\n",
       " 'spectrum',\n",
       " 'stft',\n",
       " 'stream',\n",
       " 'tempo_frequencies',\n",
       " 'thaat_to_degrees',\n",
       " 'time_to_frames',\n",
       " 'time_to_samples',\n",
       " 'times_like',\n",
       " 'to_mono',\n",
       " 'tone',\n",
       " 'tuning_to_A4',\n",
       " 'util',\n",
       " 'version',\n",
       " 'vqt',\n",
       " 'yin',\n",
       " 'zero_crossings']"
      ]
     },
     "execution_count": 3,
     "metadata": {},
     "output_type": "execute_result"
    }
   ],
   "source": [
    "dir(librosa)"
   ]
  },
  {
   "cell_type": "code",
   "execution_count": 4,
   "id": "8531b5c6",
   "metadata": {},
   "outputs": [],
   "source": [
    "file, sr = librosa.load(DIR)"
   ]
  },
  {
   "cell_type": "code",
   "execution_count": 5,
   "id": "df02c0d5",
   "metadata": {},
   "outputs": [],
   "source": [
    "import IPython"
   ]
  },
  {
   "cell_type": "code",
   "execution_count": 6,
   "id": "04d7b167",
   "metadata": {},
   "outputs": [
    {
     "data": {
      "text/plain": [
       "['Application',\n",
       " 'InteractiveShell',\n",
       " '__author__',\n",
       " '__builtins__',\n",
       " '__cached__',\n",
       " '__doc__',\n",
       " '__file__',\n",
       " '__license__',\n",
       " '__loader__',\n",
       " '__name__',\n",
       " '__package__',\n",
       " '__patched_cves__',\n",
       " '__path__',\n",
       " '__spec__',\n",
       " '__version__',\n",
       " 'core',\n",
       " 'display',\n",
       " 'embed',\n",
       " 'embed_kernel',\n",
       " 'extensions',\n",
       " 'extract_module_locals',\n",
       " 'get_ipython',\n",
       " 'lib',\n",
       " 'os',\n",
       " 'paths',\n",
       " 'release',\n",
       " 'start_ipython',\n",
       " 'start_kernel',\n",
       " 'sys',\n",
       " 'sys_info',\n",
       " 'terminal',\n",
       " 'testing',\n",
       " 'utils',\n",
       " 'version_info']"
      ]
     },
     "execution_count": 6,
     "metadata": {},
     "output_type": "execute_result"
    }
   ],
   "source": [
    "dir(IPython)"
   ]
  },
  {
   "cell_type": "code",
   "execution_count": 7,
   "id": "a1ce0430",
   "metadata": {},
   "outputs": [
    {
     "data": {
      "text/plain": [
       "['Audio',\n",
       " 'Code',\n",
       " 'DisplayHandle',\n",
       " 'DisplayObject',\n",
       " 'FileLink',\n",
       " 'FileLinks',\n",
       " 'GeoJSON',\n",
       " 'HTML',\n",
       " 'IFrame',\n",
       " 'Image',\n",
       " 'JSON',\n",
       " 'Javascript',\n",
       " 'Latex',\n",
       " 'Markdown',\n",
       " 'Math',\n",
       " 'Pretty',\n",
       " 'ProgressBar',\n",
       " 'SVG',\n",
       " 'ScribdDocument',\n",
       " 'TextDisplayObject',\n",
       " 'Video',\n",
       " 'VimeoVideo',\n",
       " 'YouTubeVideo',\n",
       " '__builtins__',\n",
       " '__cached__',\n",
       " '__doc__',\n",
       " '__file__',\n",
       " '__loader__',\n",
       " '__name__',\n",
       " '__package__',\n",
       " '__spec__',\n",
       " 'clear_output',\n",
       " 'display',\n",
       " 'display_html',\n",
       " 'display_javascript',\n",
       " 'display_jpeg',\n",
       " 'display_json',\n",
       " 'display_latex',\n",
       " 'display_markdown',\n",
       " 'display_pdf',\n",
       " 'display_png',\n",
       " 'display_pretty',\n",
       " 'display_svg',\n",
       " 'publish_display_data',\n",
       " 'set_matplotlib_close',\n",
       " 'set_matplotlib_formats',\n",
       " 'update_display']"
      ]
     },
     "execution_count": 7,
     "metadata": {},
     "output_type": "execute_result"
    }
   ],
   "source": [
    "dir(IPython.display)"
   ]
  },
  {
   "cell_type": "code",
   "execution_count": 8,
   "id": "a930d036",
   "metadata": {},
   "outputs": [
    {
     "data": {
      "text/html": [
       "\n",
       "                <audio  controls=\"controls\" >\n",
       "                    <source src=\"data:audio/wav;base64,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\" type=\"audio/wav\" />\n",
       "                    Your browser does not support the audio element.\n",
       "                </audio>\n",
       "              "
      ],
      "text/plain": [
       "<IPython.lib.display.Audio object>"
      ]
     },
     "execution_count": 8,
     "metadata": {},
     "output_type": "execute_result"
    }
   ],
   "source": [
    "IPython.display.Audio(file, rate = sr)"
   ]
  },
  {
   "cell_type": "code",
   "execution_count": 9,
   "id": "c6657ac9",
   "metadata": {},
   "outputs": [
    {
     "data": {
      "text/plain": [
       "22050"
      ]
     },
     "execution_count": 9,
     "metadata": {},
     "output_type": "execute_result"
    }
   ],
   "source": [
    "sr"
   ]
  },
  {
   "cell_type": "code",
   "execution_count": 10,
   "id": "d28cb56f",
   "metadata": {},
   "outputs": [
    {
     "data": {
      "text/plain": [
       "'0.9.1'"
      ]
     },
     "execution_count": 10,
     "metadata": {},
     "output_type": "execute_result"
    }
   ],
   "source": [
    "librosa.__version__"
   ]
  },
  {
   "cell_type": "code",
   "execution_count": 11,
   "id": "e4569aa4",
   "metadata": {},
   "outputs": [],
   "source": [
    "t = torch.randn(size = (10, 10))"
   ]
  },
  {
   "cell_type": "code",
   "execution_count": 12,
   "id": "b2015de0",
   "metadata": {},
   "outputs": [
    {
     "data": {
      "text/plain": [
       "torch.Size([10, 10])"
      ]
     },
     "execution_count": 12,
     "metadata": {},
     "output_type": "execute_result"
    }
   ],
   "source": [
    "t.shape"
   ]
  },
  {
   "cell_type": "code",
   "execution_count": 13,
   "id": "62a76272",
   "metadata": {},
   "outputs": [
    {
     "data": {
      "text/plain": [
       "torch.Size([10, 10])"
      ]
     },
     "execution_count": 13,
     "metadata": {},
     "output_type": "execute_result"
    }
   ],
   "source": [
    "t.size()"
   ]
  },
  {
   "cell_type": "code",
   "execution_count": 14,
   "id": "567087a7",
   "metadata": {},
   "outputs": [
    {
     "data": {
      "text/plain": [
       "tensor([[ 1.0614,  1.3709, -0.3676,  0.0793,  0.9017,  0.7255, -0.2785,  0.2576,\n",
       "          0.4297,  0.1567],\n",
       "        [ 0.4374, -1.3058,  1.0497, -0.8096,  0.1730,  0.5298, -1.2689, -0.2585,\n",
       "          1.7335,  0.3347],\n",
       "        [-0.2670, -1.1354,  0.6959, -0.0381, -0.6419,  1.8103,  1.3297,  1.3323,\n",
       "         -1.8389, -0.4185],\n",
       "        [-1.2557,  1.8119, -1.3776, -1.8910, -0.4275, -0.8734,  0.0827,  1.0071,\n",
       "         -0.2052,  1.0850],\n",
       "        [-1.2772,  0.8862,  0.3534, -0.1516,  1.2746, -0.5048,  1.9382,  1.3913,\n",
       "         -1.4768, -0.7052],\n",
       "        [-1.6423,  0.1268, -0.1279, -0.4549, -0.4989,  0.6659, -0.9658,  0.8349,\n",
       "         -0.5943, -0.5596],\n",
       "        [-0.5910,  0.0612,  1.7246, -0.5190, -0.7958,  0.1404,  0.9224, -0.1012,\n",
       "         -1.0042, -0.4167],\n",
       "        [-1.0209,  0.2380, -0.3448, -0.1493, -0.7601,  0.3454, -0.5919, -0.5720,\n",
       "          0.1498,  2.5537],\n",
       "        [-0.8741,  0.0317, -0.5938, -0.5162,  0.0728,  1.7141,  0.7713, -0.6061,\n",
       "         -1.1216, -1.3549],\n",
       "        [ 0.5207,  1.2020, -0.7691,  0.7681, -0.4773,  1.9475, -0.0362, -1.1077,\n",
       "         -1.6818, -1.9227]])"
      ]
     },
     "execution_count": 14,
     "metadata": {},
     "output_type": "execute_result"
    }
   ],
   "source": [
    "t"
   ]
  },
  {
   "cell_type": "code",
   "execution_count": 15,
   "id": "2f5c4436",
   "metadata": {},
   "outputs": [
    {
     "data": {
      "text/plain": [
       "(tensor([0, 0, 1, 1, 1, 1, 2, 2, 2, 2, 2, 2, 3, 3, 3, 3, 3, 3, 4, 4, 4, 4, 4, 5,\n",
       "         5, 5, 5, 5, 5, 5, 6, 6, 6, 6, 6, 6, 7, 7, 7, 7, 7, 7, 8, 8, 8, 8, 8, 8,\n",
       "         9, 9, 9, 9, 9, 9]),\n",
       " tensor([2, 6, 1, 3, 6, 7, 0, 1, 3, 4, 8, 9, 0, 2, 3, 4, 5, 8, 0, 3, 5, 8, 9, 0,\n",
       "         2, 3, 4, 6, 8, 9, 0, 3, 4, 7, 8, 9, 0, 2, 3, 4, 6, 7, 0, 2, 3, 7, 8, 9,\n",
       "         2, 4, 6, 7, 8, 9]))"
      ]
     },
     "execution_count": 15,
     "metadata": {},
     "output_type": "execute_result"
    }
   ],
   "source": [
    "torch.where(t < 0)"
   ]
  },
  {
   "cell_type": "code",
   "execution_count": 44,
   "id": "6bd2fd72",
   "metadata": {},
   "outputs": [],
   "source": [
    "from collections import namedtuple"
   ]
  },
  {
   "cell_type": "code",
   "execution_count": 57,
   "id": "2f08d8bd",
   "metadata": {},
   "outputs": [],
   "source": [
    "def unique_all(x : torch.Tensor, /):\n",
    "\n",
    "    x_ = x.clone()\n",
    "\n",
    "    if x.requires_grad_:\n",
    "        x_ = x_.detach()\n",
    "\n",
    "    outputs, inverse_indices, counts = torch.unique(x_, sorted=True, return_inverse=True,\n",
    "                                                    return_counts=True, dim=None)\n",
    "    indices = list()\n",
    "    Results = namedtuple(typename = 'unique_all', field_names = 'outputs indices inverse_indices counts')\n",
    "    \n",
    "    for val in outputs:\n",
    "        r, c = torch.where(x_ == val)\n",
    "        indices.append([r[0], c[0]])\n",
    "\n",
    "    return Results(outputs, torch.tensor(indices), inverse_indices, counts)"
   ]
  },
  {
   "cell_type": "code",
   "execution_count": 49,
   "id": "c6ef30a4",
   "metadata": {},
   "outputs": [],
   "source": [
    "t = torch.randint(high = 20, size = (10, 10))"
   ]
  },
  {
   "cell_type": "code",
   "execution_count": 50,
   "id": "4ab45b07",
   "metadata": {},
   "outputs": [
    {
     "data": {
      "text/plain": [
       "unique_all(values=tensor([ 0,  1,  2,  3,  4,  5,  6,  7,  8,  9, 10, 11, 12, 13, 14, 15, 16, 17,\n",
       "        18, 19]), indices=tensor([[0, 9],\n",
       "        [1, 2],\n",
       "        [0, 8],\n",
       "        [0, 7],\n",
       "        [1, 4],\n",
       "        [7, 6],\n",
       "        [0, 3],\n",
       "        [0, 4],\n",
       "        [2, 9],\n",
       "        [1, 9],\n",
       "        [1, 7],\n",
       "        [0, 2],\n",
       "        [0, 6],\n",
       "        [1, 6],\n",
       "        [3, 4],\n",
       "        [3, 7],\n",
       "        [0, 1],\n",
       "        [0, 0],\n",
       "        [0, 5],\n",
       "        [2, 4]]), inverse_indices=tensor([[17, 16, 11,  6,  7, 18, 12,  3,  2,  0],\n",
       "        [ 7,  2,  1, 12,  4,  3, 13, 10,  1,  9],\n",
       "        [ 0, 10,  3,  7, 19, 12, 13, 13, 18,  8],\n",
       "        [10,  7, 13, 18, 14,  4, 17, 15, 18, 13],\n",
       "        [12, 13,  3,  7, 15,  4,  2, 15, 17,  7],\n",
       "        [ 7, 12,  7, 13, 18, 10, 15,  6, 16, 15],\n",
       "        [10, 12, 18,  1, 18,  1, 19,  8, 14, 14],\n",
       "        [ 6, 11, 18, 14,  2,  4,  5, 14,  5,  1],\n",
       "        [ 9, 19, 10,  1,  4, 11, 19,  1,  8, 13],\n",
       "        [ 9, 18,  3, 12,  6,  1,  4,  7, 10, 16]]), counts=tensor([2, 8, 4, 5, 6, 2, 4, 9, 3, 3, 7, 3, 7, 8, 5, 5, 3, 3, 9, 4]))"
      ]
     },
     "execution_count": 50,
     "metadata": {},
     "output_type": "execute_result"
    }
   ],
   "source": [
    "unique_all(t)"
   ]
  },
  {
   "cell_type": "code",
   "execution_count": 52,
   "id": "b536fc24",
   "metadata": {},
   "outputs": [],
   "source": [
    "a, b = torch.where(t > 10)"
   ]
  },
  {
   "cell_type": "code",
   "execution_count": 53,
   "id": "a3d2269a",
   "metadata": {},
   "outputs": [
    {
     "data": {
      "text/plain": [
       "tensor([0, 0, 0, 0, 0, 1, 1, 2, 2, 2, 2, 2, 3, 3, 3, 3, 3, 3, 3, 4, 4, 4, 4, 4,\n",
       "        5, 5, 5, 5, 5, 5, 6, 6, 6, 6, 6, 6, 7, 7, 7, 7, 8, 8, 8, 8, 9, 9, 9])"
      ]
     },
     "execution_count": 53,
     "metadata": {},
     "output_type": "execute_result"
    }
   ],
   "source": [
    "a"
   ]
  },
  {
   "cell_type": "code",
   "execution_count": 54,
   "id": "007d52b4",
   "metadata": {},
   "outputs": [
    {
     "data": {
      "text/plain": [
       "tensor([0, 1, 2, 5, 6, 3, 6, 4, 5, 6, 7, 8, 2, 3, 4, 6, 7, 8, 9, 0, 1, 4, 7, 8,\n",
       "        1, 3, 4, 6, 8, 9, 1, 2, 4, 6, 8, 9, 1, 2, 3, 7, 1, 5, 6, 9, 1, 3, 9])"
      ]
     },
     "execution_count": 54,
     "metadata": {},
     "output_type": "execute_result"
    }
   ],
   "source": [
    "b"
   ]
  },
  {
   "cell_type": "code",
   "execution_count": 55,
   "id": "153dfbad",
   "metadata": {},
   "outputs": [
    {
     "data": {
      "text/plain": [
       "tensor(0)"
      ]
     },
     "execution_count": 55,
     "metadata": {},
     "output_type": "execute_result"
    }
   ],
   "source": [
    "a[0]"
   ]
  },
  {
   "cell_type": "code",
   "execution_count": 56,
   "id": "c3c9578d",
   "metadata": {},
   "outputs": [
    {
     "data": {
      "text/plain": [
       "tensor([[6, 5],\n",
       "        [1, 2]])"
      ]
     },
     "execution_count": 56,
     "metadata": {},
     "output_type": "execute_result"
    }
   ],
   "source": [
    "torch.tensor([[6, 5], [1, 2]])"
   ]
  },
  {
   "cell_type": "code",
   "execution_count": 59,
   "id": "713af7f1",
   "metadata": {},
   "outputs": [
    {
     "data": {
      "text/plain": [
       "tensor([[17, 16, 11,  6,  7, 18, 12,  3,  2,  0],\n",
       "        [ 7,  2,  1, 12,  4,  3, 13, 10,  1,  9],\n",
       "        [ 0, 10,  3,  7, 19, 12, 13, 13, 18,  8],\n",
       "        [10,  7, 13, 18, 14,  4, 17, 15, 18, 13],\n",
       "        [12, 13,  3,  7, 15,  4,  2, 15, 17,  7],\n",
       "        [ 7, 12,  7, 13, 18, 10, 15,  6, 16, 15],\n",
       "        [10, 12, 18,  1, 18,  1, 19,  8, 14, 14],\n",
       "        [ 6, 11, 18, 14,  2,  4,  5, 14,  5,  1],\n",
       "        [ 9, 19, 10,  1,  4, 11, 19,  1,  8, 13],\n",
       "        [ 9, 18,  3, 12,  6,  1,  4,  7, 10, 16]])"
      ]
     },
     "execution_count": 59,
     "metadata": {},
     "output_type": "execute_result"
    }
   ],
   "source": [
    "t"
   ]
  },
  {
   "cell_type": "code",
   "execution_count": 60,
   "id": "21dae10d",
   "metadata": {},
   "outputs": [
    {
     "data": {
      "text/plain": [
       "tensor([[True, True, True, True, True, True, True, True, True, True],\n",
       "        [True, True, True, True, True, True, True, True, True, True],\n",
       "        [True, True, True, True, True, True, True, True, True, True],\n",
       "        [True, True, True, True, True, True, True, True, True, True],\n",
       "        [True, True, True, True, True, True, True, True, True, True],\n",
       "        [True, True, True, True, True, True, True, True, True, True],\n",
       "        [True, True, True, True, True, True, True, True, True, True],\n",
       "        [True, True, True, True, True, True, True, True, True, True],\n",
       "        [True, True, True, True, True, True, True, True, True, True],\n",
       "        [True, True, True, True, True, True, True, True, True, True]])"
      ]
     },
     "execution_count": 60,
     "metadata": {},
     "output_type": "execute_result"
    }
   ],
   "source": [
    "torch.unique(t, sorted=True, return_inverse=True, return_counts=True, dim=None)[1] == t"
   ]
  },
  {
   "cell_type": "code",
   "execution_count": 61,
   "id": "02cb1aa6",
   "metadata": {},
   "outputs": [
    {
     "data": {
      "text/plain": [
       "(array([ 0,  1,  2,  3,  4,  5,  6,  7,  8,  9, 10, 11, 12, 13, 14, 15, 16,\n",
       "        17, 18, 19], dtype=int64),\n",
       " array([ 9, 12,  8,  7, 14, 76,  3,  4, 29, 19, 17,  2,  6, 16, 34, 37,  1,\n",
       "         0,  5, 24], dtype=int64),\n",
       " array([17, 16, 11,  6,  7, 18, 12,  3,  2,  0,  7,  2,  1, 12,  4,  3, 13,\n",
       "        10,  1,  9,  0, 10,  3,  7, 19, 12, 13, 13, 18,  8, 10,  7, 13, 18,\n",
       "        14,  4, 17, 15, 18, 13, 12, 13,  3,  7, 15,  4,  2, 15, 17,  7,  7,\n",
       "        12,  7, 13, 18, 10, 15,  6, 16, 15, 10, 12, 18,  1, 18,  1, 19,  8,\n",
       "        14, 14,  6, 11, 18, 14,  2,  4,  5, 14,  5,  1,  9, 19, 10,  1,  4,\n",
       "        11, 19,  1,  8, 13,  9, 18,  3, 12,  6,  1,  4,  7, 10, 16],\n",
       "       dtype=int64),\n",
       " array([2, 8, 4, 5, 6, 2, 4, 9, 3, 3, 7, 3, 7, 8, 5, 5, 3, 3, 9, 4],\n",
       "       dtype=int64))"
      ]
     },
     "execution_count": 61,
     "metadata": {},
     "output_type": "execute_result"
    }
   ],
   "source": [
    "np.unique(t.numpy(), True, True, True)"
   ]
  },
  {
   "cell_type": "code",
   "execution_count": 62,
   "id": "94946584",
   "metadata": {},
   "outputs": [],
   "source": [
    "import tensorflow as tf"
   ]
  },
  {
   "cell_type": "code",
   "execution_count": 63,
   "id": "ae69fad4",
   "metadata": {},
   "outputs": [
    {
     "ename": "AttributeError",
     "evalue": "module 'tensorflow._api.v2.experimental.numpy' has no attribute 'unique'",
     "output_type": "error",
     "traceback": [
      "\u001b[1;31m---------------------------------------------------------------------------\u001b[0m",
      "\u001b[1;31mAttributeError\u001b[0m                            Traceback (most recent call last)",
      "Input \u001b[1;32mIn [63]\u001b[0m, in \u001b[0;36m<cell line: 1>\u001b[1;34m()\u001b[0m\n\u001b[1;32m----> 1\u001b[0m \u001b[43mtf\u001b[49m\u001b[38;5;241;43m.\u001b[39;49m\u001b[43mexperimental\u001b[49m\u001b[38;5;241;43m.\u001b[39;49m\u001b[43mnumpy\u001b[49m\u001b[38;5;241;43m.\u001b[39;49m\u001b[43munique\u001b[49m(t\u001b[38;5;241m.\u001b[39mnumpy())\n",
      "\u001b[1;31mAttributeError\u001b[0m: module 'tensorflow._api.v2.experimental.numpy' has no attribute 'unique'"
     ]
    }
   ],
   "source": [
    "tf.count()"
   ]
  },
  {
   "cell_type": "code",
   "execution_count": 69,
   "id": "d99980b8",
   "metadata": {},
   "outputs": [
    {
     "data": {
      "text/plain": [
       "array([ 1.55740772, -2.18503986, -0.14254654])"
      ]
     },
     "execution_count": 69,
     "metadata": {},
     "output_type": "execute_result"
    }
   ],
   "source": [
    "np.tan([1, 2, 3])"
   ]
  },
  {
   "cell_type": "code",
   "execution_count": 73,
   "id": "cc95b292",
   "metadata": {},
   "outputs": [
    {
     "ename": "NotFoundError",
     "evalue": "Could not find device for node: {{node Tan}} = Tan[T=DT_INT32]\nAll kernels registered for op Tan:\n  device='CPU'; T in [DT_HALF]\n  device='CPU'; T in [DT_BFLOAT16]\n  device='CPU'; T in [DT_FLOAT]\n  device='CPU'; T in [DT_DOUBLE]\n  device='CPU'; T in [DT_COMPLEX64]\n  device='CPU'; T in [DT_COMPLEX128]\n [Op:Tan]",
     "output_type": "error",
     "traceback": [
      "\u001b[1;31m---------------------------------------------------------------------------\u001b[0m",
      "\u001b[1;31mNotFoundError\u001b[0m                             Traceback (most recent call last)",
      "Input \u001b[1;32mIn [73]\u001b[0m, in \u001b[0;36m<cell line: 1>\u001b[1;34m()\u001b[0m\n\u001b[1;32m----> 1\u001b[0m \u001b[43mtf\u001b[49m\u001b[38;5;241;43m.\u001b[39;49m\u001b[43mtan\u001b[49m\u001b[43m(\u001b[49m\u001b[43mtf\u001b[49m\u001b[38;5;241;43m.\u001b[39;49m\u001b[43mconstant\u001b[49m\u001b[43m(\u001b[49m\u001b[43m[\u001b[49m\u001b[38;5;241;43m1\u001b[39;49m\u001b[43m,\u001b[49m\u001b[43m \u001b[49m\u001b[38;5;241;43m2\u001b[39;49m\u001b[43m,\u001b[49m\u001b[43m \u001b[49m\u001b[38;5;241;43m3\u001b[39;49m\u001b[43m]\u001b[49m\u001b[43m,\u001b[49m\u001b[43m \u001b[49m\u001b[43mshape\u001b[49m\u001b[43m \u001b[49m\u001b[38;5;241;43m=\u001b[39;49m\u001b[43m \u001b[49m\u001b[43m(\u001b[49m\u001b[38;5;241;43m3\u001b[39;49m\u001b[43m,\u001b[49m\u001b[43m)\u001b[49m\u001b[43m)\u001b[49m\u001b[43m)\u001b[49m\n",
      "File \u001b[1;32m~\\anaconda3\\lib\\site-packages\\tensorflow\\python\\ops\\gen_math_ops.py:10784\u001b[0m, in \u001b[0;36mtan\u001b[1;34m(x, name)\u001b[0m\n\u001b[0;32m  10782\u001b[0m   \u001b[38;5;28;01mreturn\u001b[39;00m _result\n\u001b[0;32m  10783\u001b[0m \u001b[38;5;28;01mexcept\u001b[39;00m _core\u001b[38;5;241m.\u001b[39m_NotOkStatusException \u001b[38;5;28;01mas\u001b[39;00m e:\n\u001b[1;32m> 10784\u001b[0m   \u001b[43m_ops\u001b[49m\u001b[38;5;241;43m.\u001b[39;49m\u001b[43mraise_from_not_ok_status\u001b[49m\u001b[43m(\u001b[49m\u001b[43me\u001b[49m\u001b[43m,\u001b[49m\u001b[43m \u001b[49m\u001b[43mname\u001b[49m\u001b[43m)\u001b[49m\n\u001b[0;32m  10785\u001b[0m \u001b[38;5;28;01mexcept\u001b[39;00m _core\u001b[38;5;241m.\u001b[39m_FallbackException:\n\u001b[0;32m  10786\u001b[0m   \u001b[38;5;28;01mpass\u001b[39;00m\n",
      "File \u001b[1;32m~\\anaconda3\\lib\\site-packages\\tensorflow\\python\\framework\\ops.py:6941\u001b[0m, in \u001b[0;36mraise_from_not_ok_status\u001b[1;34m(e, name)\u001b[0m\n\u001b[0;32m   6939\u001b[0m message \u001b[38;5;241m=\u001b[39m e\u001b[38;5;241m.\u001b[39mmessage \u001b[38;5;241m+\u001b[39m (\u001b[38;5;124m\"\u001b[39m\u001b[38;5;124m name: \u001b[39m\u001b[38;5;124m\"\u001b[39m \u001b[38;5;241m+\u001b[39m name \u001b[38;5;28;01mif\u001b[39;00m name \u001b[38;5;129;01mis\u001b[39;00m \u001b[38;5;129;01mnot\u001b[39;00m \u001b[38;5;28;01mNone\u001b[39;00m \u001b[38;5;28;01melse\u001b[39;00m \u001b[38;5;124m\"\u001b[39m\u001b[38;5;124m\"\u001b[39m)\n\u001b[0;32m   6940\u001b[0m \u001b[38;5;66;03m# pylint: disable=protected-access\u001b[39;00m\n\u001b[1;32m-> 6941\u001b[0m \u001b[43msix\u001b[49m\u001b[38;5;241;43m.\u001b[39;49m\u001b[43mraise_from\u001b[49m\u001b[43m(\u001b[49m\u001b[43mcore\u001b[49m\u001b[38;5;241;43m.\u001b[39;49m\u001b[43m_status_to_exception\u001b[49m\u001b[43m(\u001b[49m\u001b[43me\u001b[49m\u001b[38;5;241;43m.\u001b[39;49m\u001b[43mcode\u001b[49m\u001b[43m,\u001b[49m\u001b[43m \u001b[49m\u001b[43mmessage\u001b[49m\u001b[43m)\u001b[49m\u001b[43m,\u001b[49m\u001b[43m \u001b[49m\u001b[38;5;28;43;01mNone\u001b[39;49;00m\u001b[43m)\u001b[49m\n",
      "File \u001b[1;32m<string>:3\u001b[0m, in \u001b[0;36mraise_from\u001b[1;34m(value, from_value)\u001b[0m\n",
      "\u001b[1;31mNotFoundError\u001b[0m: Could not find device for node: {{node Tan}} = Tan[T=DT_INT32]\nAll kernels registered for op Tan:\n  device='CPU'; T in [DT_HALF]\n  device='CPU'; T in [DT_BFLOAT16]\n  device='CPU'; T in [DT_FLOAT]\n  device='CPU'; T in [DT_DOUBLE]\n  device='CPU'; T in [DT_COMPLEX64]\n  device='CPU'; T in [DT_COMPLEX128]\n [Op:Tan]"
     ]
    }
   ],
   "source": [
    "tf.tan(tf.constant([1, 2, 3], shape = (3,)))"
   ]
  },
  {
   "cell_type": "code",
   "execution_count": 76,
   "id": "77ca3d19",
   "metadata": {},
   "outputs": [],
   "source": [
    "d = tf.constant([1, 2, 3], shape = (3,))"
   ]
  },
  {
   "cell_type": "code",
   "execution_count": 78,
   "id": "7b34fab6",
   "metadata": {},
   "outputs": [
    {
     "data": {
      "text/plain": [
       "tensor([ 1.5574, -2.1850, -0.1425])"
      ]
     },
     "execution_count": 78,
     "metadata": {},
     "output_type": "execute_result"
    }
   ],
   "source": [
    "torch.tan(torch.tensor([1, 2, 3]))"
   ]
  },
  {
   "cell_type": "code",
   "execution_count": 77,
   "id": "dd72644b",
   "metadata": {},
   "outputs": [
    {
     "data": {
      "text/plain": [
       "['OVERLOADABLE_OPERATORS',\n",
       " '_USE_EQUALITY',\n",
       " '__abs__',\n",
       " '__add__',\n",
       " '__and__',\n",
       " '__array__',\n",
       " '__array_priority__',\n",
       " '__bool__',\n",
       " '__class__',\n",
       " '__complex__',\n",
       " '__copy__',\n",
       " '__deepcopy__',\n",
       " '__delattr__',\n",
       " '__dict__',\n",
       " '__dir__',\n",
       " '__div__',\n",
       " '__doc__',\n",
       " '__eq__',\n",
       " '__float__',\n",
       " '__floordiv__',\n",
       " '__format__',\n",
       " '__ge__',\n",
       " '__getattr__',\n",
       " '__getattribute__',\n",
       " '__getitem__',\n",
       " '__gt__',\n",
       " '__hash__',\n",
       " '__index__',\n",
       " '__init__',\n",
       " '__init_subclass__',\n",
       " '__int__',\n",
       " '__invert__',\n",
       " '__iter__',\n",
       " '__le__',\n",
       " '__len__',\n",
       " '__long__',\n",
       " '__lt__',\n",
       " '__matmul__',\n",
       " '__mod__',\n",
       " '__module__',\n",
       " '__mul__',\n",
       " '__ne__',\n",
       " '__neg__',\n",
       " '__new__',\n",
       " '__nonzero__',\n",
       " '__or__',\n",
       " '__pow__',\n",
       " '__radd__',\n",
       " '__rand__',\n",
       " '__rdiv__',\n",
       " '__reduce__',\n",
       " '__reduce_ex__',\n",
       " '__repr__',\n",
       " '__rfloordiv__',\n",
       " '__rmatmul__',\n",
       " '__rmod__',\n",
       " '__rmul__',\n",
       " '__ror__',\n",
       " '__round__',\n",
       " '__rpow__',\n",
       " '__rsub__',\n",
       " '__rtruediv__',\n",
       " '__rxor__',\n",
       " '__setattr__',\n",
       " '__sizeof__',\n",
       " '__str__',\n",
       " '__sub__',\n",
       " '__subclasshook__',\n",
       " '__truediv__',\n",
       " '__weakref__',\n",
       " '__xor__',\n",
       " '_add_consumer',\n",
       " '_as_node_def_input',\n",
       " '_as_tf_output',\n",
       " '_c_api_shape',\n",
       " '_copy',\n",
       " '_copy_nograd',\n",
       " '_copy_to_device',\n",
       " '_create_with_tf_output',\n",
       " '_datatype_enum',\n",
       " '_disallow_bool_casting',\n",
       " '_disallow_in_graph_mode',\n",
       " '_disallow_iteration',\n",
       " '_disallow_when_autograph_disabled',\n",
       " '_disallow_when_autograph_enabled',\n",
       " '_handle_data',\n",
       " '_has_custom_summarizer',\n",
       " '_id',\n",
       " '_matmul',\n",
       " '_num_elements',\n",
       " '_numpy',\n",
       " '_numpy_internal',\n",
       " '_numpy_style_getitem',\n",
       " '_override_operator',\n",
       " '_rank',\n",
       " '_shape',\n",
       " '_shape_as_list',\n",
       " '_shape_tuple',\n",
       " '_summarize_value',\n",
       " '_tensor_shape',\n",
       " '_tf_api_names',\n",
       " '_tf_api_names_v1',\n",
       " '_with_index_add',\n",
       " '_with_index_max',\n",
       " '_with_index_min',\n",
       " '_with_index_update',\n",
       " 'backing_device',\n",
       " 'consumers',\n",
       " 'cpu',\n",
       " 'device',\n",
       " 'dtype',\n",
       " 'eval',\n",
       " 'experimental_ref',\n",
       " 'get_shape',\n",
       " 'gpu',\n",
       " 'graph',\n",
       " 'is_packed',\n",
       " 'name',\n",
       " 'ndim',\n",
       " 'numpy',\n",
       " 'op',\n",
       " 'ref',\n",
       " 'set_shape',\n",
       " 'shape',\n",
       " 'value_index']"
      ]
     },
     "execution_count": 77,
     "metadata": {},
     "output_type": "execute_result"
    }
   ],
   "source": [
    "dir(d)"
   ]
  },
  {
   "cell_type": "code",
   "execution_count": null,
   "id": "8fd0939c",
   "metadata": {},
   "outputs": [],
   "source": []
  }
 ],
 "metadata": {
  "kernelspec": {
   "display_name": "Python 3 (ipykernel)",
   "language": "python",
   "name": "python3"
  },
  "language_info": {
   "codemirror_mode": {
    "name": "ipython",
    "version": 3
   },
   "file_extension": ".py",
   "mimetype": "text/x-python",
   "name": "python",
   "nbconvert_exporter": "python",
   "pygments_lexer": "ipython3",
   "version": "3.9.10"
  }
 },
 "nbformat": 4,
 "nbformat_minor": 5
}
